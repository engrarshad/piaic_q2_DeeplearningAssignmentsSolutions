{
  "nbformat": 4,
  "nbformat_minor": 0,
  "metadata": {
    "colab": {
      "name": "Copy of PIAIC_Concrete_Strength_Assignment.ipynb",
      "provenance": [],
      "include_colab_link": true
    },
    "kernelspec": {
      "display_name": "Python 3",
      "language": "python",
      "name": "python3"
    },
    "language_info": {
      "codemirror_mode": {
        "name": "ipython",
        "version": 3
      },
      "file_extension": ".py",
      "mimetype": "text/x-python",
      "name": "python",
      "nbconvert_exporter": "python",
      "pygments_lexer": "ipython3",
      "version": "3.8.5"
    }
  },
  "cells": [
    {
      "cell_type": "markdown",
      "metadata": {
        "id": "view-in-github",
        "colab_type": "text"
      },
      "source": [
        "<a href=\"https://colab.research.google.com/github/engrarshad/piaic_q2_DeeplearningAssignmentsSolutions/blob/main/PIAIC_Concrete_Strength_Assignment.ipynb\" target=\"_parent\"><img src=\"https://colab.research.google.com/assets/colab-badge.svg\" alt=\"Open In Colab\"/></a>"
      ]
    },
    {
      "cell_type": "markdown",
      "metadata": {
        "id": "nnlyIQflOZJG"
      },
      "source": [
        "# Assignment: Compresive Strength Concrete Problem\n",
        "\n",
        "\n",
        "### Abstract: \n",
        "\n",
        "Concrete is the most important material in civil engineering. The concrete compressive strength (concrete strength to bear the load) is a highly nonlinear function of age and ingredients.  <br><br>\n",
        "\n",
        "<table border=\"1\"  cellpadding=\"6\" bordercolor=\"red\">\n",
        "\t<tbody>\n",
        "        <tr>\n",
        "\t\t<td bgcolor=\"#DDEEFF\"><p class=\"normal\"><b>Data Set Characteristics:&nbsp;&nbsp;</b></p></td>\n",
        "\t\t<td><p class=\"normal\">Multivariate</p></td>\n",
        "\t\t<td bgcolor=\"#DDEEFF\"><p class=\"normal\"><b>Number of Instances:</b></p></td>\n",
        "\t\t<td><p class=\"normal\">1030</p></td>\n",
        "\t\t<td bgcolor=\"#DDEEFF\"><p class=\"normal\"><b>Area:</b></p></td>\n",
        "\t\t<td><p class=\"normal\">Physical</p></td>\n",
        "        </tr>\n",
        "     </tbody>\n",
        "    </table>\n",
        "<table border=\"1\" cellpadding=\"6\">\n",
        "    <tbody>\n",
        "        <tr>\n",
        "            <td bgcolor=\"#DDEEFF\"><p class=\"normal\"><b>Attribute Characteristics:</b></p></td>\n",
        "            <td><p class=\"normal\">Real</p></td>\n",
        "            <td bgcolor=\"#DDEEFF\"><p class=\"normal\"><b>Number of Attributes:</b></p></td>\n",
        "            <td><p class=\"normal\">9</p></td>\n",
        "            <td bgcolor=\"#DDEEFF\"><p class=\"normal\"><b>Date Donated</b></p></td>\n",
        "            <td><p class=\"normal\">2007-08-03</p></td>\n",
        "        </tr>\n",
        "     </tbody>\n",
        "    </table>\n",
        "<table border=\"1\" cellpadding=\"6\">\t\n",
        "    <tbody>\n",
        "    <tr>\n",
        "\t\t<td bgcolor=\"#DDEEFF\"><p class=\"normal\"><b>Associated Tasks:</b></p></td>\n",
        "\t\t<td><p class=\"normal\">Regression</p></td>\n",
        "\t\t<td bgcolor=\"#DDEEFF\"><p class=\"normal\"><b>Missing Values?</b></p></td>\n",
        "\t\t<td><p class=\"normal\">N/A</p></td>\n",
        "\t\t<td bgcolor=\"#DDEEFF\"><p class=\"normal\"><b>Number of Web Hits:</b></p></td>\n",
        "\t\t<td><p class=\"normal\">231464</p></td>\n",
        "\t</tr>\n",
        "    </tbody>\n",
        "    </table>"
      ]
    },
    {
      "cell_type": "markdown",
      "metadata": {
        "id": "wDVdvMBAOZJL"
      },
      "source": [
        "###  Description:\n",
        "| Features Name | Data Type | Measurement | Description |\n",
        "| -- | -- | -- | -- |\n",
        "Cement (component 1) | quantitative | kg in a m3 mixture | Input Variable\n",
        "Blast Furnace Slag (component 2) | quantitative | kg in a m3 mixture | Input Variable\n",
        "Fly Ash (component 3) | quantitative | kg in a m3 mixture | Input Variable\n",
        "Water (component 4) | quantitative | kg in a m3 mixture | Input Variable\n",
        "Superplasticizer (component 5) | quantitative | kg in a m3 mixture | Input Variable\n",
        "Coarse Aggregate (component 6) | quantitative | kg in a m3 mixture | Input Variable\n",
        "Fine Aggregate (component 7) | quantitative | kg in a m3 mixture | Input Variable\n",
        "Age | quantitative | Day (1~365) | Input Variable\n",
        "Concrete compressive strength | quantitative | MPa | Output Variable\n",
        "\n",
        "### WORKFLOW :\n",
        "- Load Data\n",
        "- Check Missing Values ( If Exist ; Fill each record with mean of its feature )\n",
        "- Standardized the Input Variables. **Hint**: Centeralized the data\n",
        "- Split into 50% Training(Samples,Labels) , 30% Test(Samples,Labels) and 20% Validation Data(Samples,Labels).\n",
        "- Model : input Layer (No. of features ), 3 hidden layers including 10,8,6 unit & Output Layer with activation function relu/tanh (check by experiment).\n",
        "- Compilation Step (Note : Its a Regression problem , select loss , metrics according to it)\n",
        "- Train the Model with Epochs (100) and validate it\n",
        "- If the model gets overfit tune your model by changing the units , No. of layers , activation function , epochs , add dropout layer or add Regularizer according to the need .\n",
        "- Evaluation Step\n",
        "- Prediction\n"
      ]
    },
    {
      "cell_type": "markdown",
      "metadata": {
        "id": "8_lYngD2OZJN"
      },
      "source": [
        "# Load Data:\n",
        "[Click Here to Download DataSet](https://github.com/ramsha275/ML_Datasets/blob/main/compresive_strength_concrete.csv)"
      ]
    },
    {
      "cell_type": "code",
      "metadata": {
        "id": "FgrSF5j_OZJO"
      },
      "source": [
        "import tensorflow as tf\n",
        "import numpy as np\n",
        "import pandas as pd\n",
        "from tensorflow.keras import models, layers , optimizers"
      ],
      "execution_count": null,
      "outputs": []
    },
    {
      "cell_type": "code",
      "metadata": {
        "colab": {
          "base_uri": "https://localhost:8080/"
        },
        "id": "thBGRKLPPHZY",
        "outputId": "40bfd2a1-8af3-462f-fe34-ee89101319a3"
      },
      "source": [
        "from google.colab import drive\n",
        "drive.mount(\"/content/gdrive\")"
      ],
      "execution_count": null,
      "outputs": [
        {
          "output_type": "stream",
          "text": [
            "Drive already mounted at /content/gdrive; to attempt to forcibly remount, call drive.mount(\"/content/gdrive\", force_remount=True).\n"
          ],
          "name": "stdout"
        }
      ]
    },
    {
      "cell_type": "code",
      "metadata": {
        "id": "H43i_gBFPe02"
      },
      "source": [
        "df= pd.read_csv(\"/content/gdrive/MyDrive/AIAssignments/ML_Datasets-main/compresive_strength_concrete.csv\")"
      ],
      "execution_count": null,
      "outputs": []
    },
    {
      "cell_type": "code",
      "metadata": {
        "colab": {
          "base_uri": "https://localhost:8080/",
          "height": 470
        },
        "id": "oH6RIxSbQy3d",
        "outputId": "7237256d-46bd-46fb-9527-8fbcfa0f497c"
      },
      "source": [
        "df"
      ],
      "execution_count": null,
      "outputs": [
        {
          "output_type": "execute_result",
          "data": {
            "text/html": [
              "<div>\n",
              "<style scoped>\n",
              "    .dataframe tbody tr th:only-of-type {\n",
              "        vertical-align: middle;\n",
              "    }\n",
              "\n",
              "    .dataframe tbody tr th {\n",
              "        vertical-align: top;\n",
              "    }\n",
              "\n",
              "    .dataframe thead th {\n",
              "        text-align: right;\n",
              "    }\n",
              "</style>\n",
              "<table border=\"1\" class=\"dataframe\">\n",
              "  <thead>\n",
              "    <tr style=\"text-align: right;\">\n",
              "      <th></th>\n",
              "      <th>Cement (component 1)(kg in a m^3 mixture)</th>\n",
              "      <th>Blast Furnace Slag (component 2)(kg in a m^3 mixture)</th>\n",
              "      <th>Fly Ash (component 3)(kg in a m^3 mixture)</th>\n",
              "      <th>Water  (component 4)(kg in a m^3 mixture)</th>\n",
              "      <th>Superplasticizer (component 5)(kg in a m^3 mixture)</th>\n",
              "      <th>Coarse Aggregate  (component 6)(kg in a m^3 mixture)</th>\n",
              "      <th>Fine Aggregate (component 7)(kg in a m^3 mixture)</th>\n",
              "      <th>Age (day)</th>\n",
              "      <th>Concrete compressive strength(MPa, megapascals)</th>\n",
              "    </tr>\n",
              "  </thead>\n",
              "  <tbody>\n",
              "    <tr>\n",
              "      <th>0</th>\n",
              "      <td>540.0</td>\n",
              "      <td>0.0</td>\n",
              "      <td>0.0</td>\n",
              "      <td>162.0</td>\n",
              "      <td>2.5</td>\n",
              "      <td>1040.0</td>\n",
              "      <td>676.0</td>\n",
              "      <td>28</td>\n",
              "      <td>79.99</td>\n",
              "    </tr>\n",
              "    <tr>\n",
              "      <th>1</th>\n",
              "      <td>540.0</td>\n",
              "      <td>0.0</td>\n",
              "      <td>0.0</td>\n",
              "      <td>162.0</td>\n",
              "      <td>2.5</td>\n",
              "      <td>1055.0</td>\n",
              "      <td>676.0</td>\n",
              "      <td>28</td>\n",
              "      <td>61.89</td>\n",
              "    </tr>\n",
              "    <tr>\n",
              "      <th>2</th>\n",
              "      <td>332.5</td>\n",
              "      <td>142.5</td>\n",
              "      <td>0.0</td>\n",
              "      <td>228.0</td>\n",
              "      <td>0.0</td>\n",
              "      <td>932.0</td>\n",
              "      <td>594.0</td>\n",
              "      <td>270</td>\n",
              "      <td>40.27</td>\n",
              "    </tr>\n",
              "    <tr>\n",
              "      <th>3</th>\n",
              "      <td>332.5</td>\n",
              "      <td>142.5</td>\n",
              "      <td>0.0</td>\n",
              "      <td>228.0</td>\n",
              "      <td>0.0</td>\n",
              "      <td>932.0</td>\n",
              "      <td>594.0</td>\n",
              "      <td>365</td>\n",
              "      <td>41.05</td>\n",
              "    </tr>\n",
              "    <tr>\n",
              "      <th>4</th>\n",
              "      <td>198.6</td>\n",
              "      <td>132.4</td>\n",
              "      <td>0.0</td>\n",
              "      <td>192.0</td>\n",
              "      <td>0.0</td>\n",
              "      <td>978.4</td>\n",
              "      <td>825.5</td>\n",
              "      <td>360</td>\n",
              "      <td>44.30</td>\n",
              "    </tr>\n",
              "    <tr>\n",
              "      <th>...</th>\n",
              "      <td>...</td>\n",
              "      <td>...</td>\n",
              "      <td>...</td>\n",
              "      <td>...</td>\n",
              "      <td>...</td>\n",
              "      <td>...</td>\n",
              "      <td>...</td>\n",
              "      <td>...</td>\n",
              "      <td>...</td>\n",
              "    </tr>\n",
              "    <tr>\n",
              "      <th>1025</th>\n",
              "      <td>276.4</td>\n",
              "      <td>116.0</td>\n",
              "      <td>90.3</td>\n",
              "      <td>179.6</td>\n",
              "      <td>8.9</td>\n",
              "      <td>870.1</td>\n",
              "      <td>768.3</td>\n",
              "      <td>28</td>\n",
              "      <td>44.28</td>\n",
              "    </tr>\n",
              "    <tr>\n",
              "      <th>1026</th>\n",
              "      <td>322.2</td>\n",
              "      <td>0.0</td>\n",
              "      <td>115.6</td>\n",
              "      <td>196.0</td>\n",
              "      <td>10.4</td>\n",
              "      <td>817.9</td>\n",
              "      <td>813.4</td>\n",
              "      <td>28</td>\n",
              "      <td>31.18</td>\n",
              "    </tr>\n",
              "    <tr>\n",
              "      <th>1027</th>\n",
              "      <td>148.5</td>\n",
              "      <td>139.4</td>\n",
              "      <td>108.6</td>\n",
              "      <td>192.7</td>\n",
              "      <td>6.1</td>\n",
              "      <td>892.4</td>\n",
              "      <td>780.0</td>\n",
              "      <td>28</td>\n",
              "      <td>23.70</td>\n",
              "    </tr>\n",
              "    <tr>\n",
              "      <th>1028</th>\n",
              "      <td>159.1</td>\n",
              "      <td>186.7</td>\n",
              "      <td>0.0</td>\n",
              "      <td>175.6</td>\n",
              "      <td>11.3</td>\n",
              "      <td>989.6</td>\n",
              "      <td>788.9</td>\n",
              "      <td>28</td>\n",
              "      <td>32.77</td>\n",
              "    </tr>\n",
              "    <tr>\n",
              "      <th>1029</th>\n",
              "      <td>260.9</td>\n",
              "      <td>100.5</td>\n",
              "      <td>78.3</td>\n",
              "      <td>200.6</td>\n",
              "      <td>8.6</td>\n",
              "      <td>864.5</td>\n",
              "      <td>761.5</td>\n",
              "      <td>28</td>\n",
              "      <td>32.40</td>\n",
              "    </tr>\n",
              "  </tbody>\n",
              "</table>\n",
              "<p>1030 rows × 9 columns</p>\n",
              "</div>"
            ],
            "text/plain": [
              "      Cement (component 1)(kg in a m^3 mixture)  ...  Concrete compressive strength(MPa, megapascals) \n",
              "0                                         540.0  ...                                             79.99\n",
              "1                                         540.0  ...                                             61.89\n",
              "2                                         332.5  ...                                             40.27\n",
              "3                                         332.5  ...                                             41.05\n",
              "4                                         198.6  ...                                             44.30\n",
              "...                                         ...  ...                                               ...\n",
              "1025                                      276.4  ...                                             44.28\n",
              "1026                                      322.2  ...                                             31.18\n",
              "1027                                      148.5  ...                                             23.70\n",
              "1028                                      159.1  ...                                             32.77\n",
              "1029                                      260.9  ...                                             32.40\n",
              "\n",
              "[1030 rows x 9 columns]"
            ]
          },
          "metadata": {
            "tags": []
          },
          "execution_count": 8
        }
      ]
    },
    {
      "cell_type": "code",
      "metadata": {
        "colab": {
          "base_uri": "https://localhost:8080/"
        },
        "id": "q8S-QLsBR4Bd",
        "outputId": "0317b13f-b142-42eb-b76c-9c6c75f120b5"
      },
      "source": [
        "df.isnull().sum()"
      ],
      "execution_count": null,
      "outputs": [
        {
          "output_type": "execute_result",
          "data": {
            "text/plain": [
              "Cement (component 1)(kg in a m^3 mixture)                0\n",
              "Blast Furnace Slag (component 2)(kg in a m^3 mixture)    0\n",
              "Fly Ash (component 3)(kg in a m^3 mixture)               0\n",
              "Water  (component 4)(kg in a m^3 mixture)                0\n",
              "Superplasticizer (component 5)(kg in a m^3 mixture)      0\n",
              "Coarse Aggregate  (component 6)(kg in a m^3 mixture)     0\n",
              "Fine Aggregate (component 7)(kg in a m^3 mixture)        0\n",
              "Age (day)                                                0\n",
              "Concrete compressive strength(MPa, megapascals)          0\n",
              "dtype: int64"
            ]
          },
          "metadata": {
            "tags": []
          },
          "execution_count": 9
        }
      ]
    },
    {
      "cell_type": "code",
      "metadata": {
        "colab": {
          "base_uri": "https://localhost:8080/",
          "height": 348
        },
        "id": "NAoNRjCbSKxZ",
        "outputId": "01c0a613-c3a2-4b96-b304-37b8a82567ca"
      },
      "source": [
        "df.describe()"
      ],
      "execution_count": null,
      "outputs": [
        {
          "output_type": "execute_result",
          "data": {
            "text/html": [
              "<div>\n",
              "<style scoped>\n",
              "    .dataframe tbody tr th:only-of-type {\n",
              "        vertical-align: middle;\n",
              "    }\n",
              "\n",
              "    .dataframe tbody tr th {\n",
              "        vertical-align: top;\n",
              "    }\n",
              "\n",
              "    .dataframe thead th {\n",
              "        text-align: right;\n",
              "    }\n",
              "</style>\n",
              "<table border=\"1\" class=\"dataframe\">\n",
              "  <thead>\n",
              "    <tr style=\"text-align: right;\">\n",
              "      <th></th>\n",
              "      <th>Cement (component 1)(kg in a m^3 mixture)</th>\n",
              "      <th>Blast Furnace Slag (component 2)(kg in a m^3 mixture)</th>\n",
              "      <th>Fly Ash (component 3)(kg in a m^3 mixture)</th>\n",
              "      <th>Water  (component 4)(kg in a m^3 mixture)</th>\n",
              "      <th>Superplasticizer (component 5)(kg in a m^3 mixture)</th>\n",
              "      <th>Coarse Aggregate  (component 6)(kg in a m^3 mixture)</th>\n",
              "      <th>Fine Aggregate (component 7)(kg in a m^3 mixture)</th>\n",
              "      <th>Age (day)</th>\n",
              "      <th>Concrete compressive strength(MPa, megapascals)</th>\n",
              "    </tr>\n",
              "  </thead>\n",
              "  <tbody>\n",
              "    <tr>\n",
              "      <th>count</th>\n",
              "      <td>1030.000000</td>\n",
              "      <td>1030.000000</td>\n",
              "      <td>1030.000000</td>\n",
              "      <td>1030.000000</td>\n",
              "      <td>1030.000000</td>\n",
              "      <td>1030.000000</td>\n",
              "      <td>1030.000000</td>\n",
              "      <td>1030.000000</td>\n",
              "      <td>1030.000000</td>\n",
              "    </tr>\n",
              "    <tr>\n",
              "      <th>mean</th>\n",
              "      <td>281.167864</td>\n",
              "      <td>73.895825</td>\n",
              "      <td>54.188350</td>\n",
              "      <td>181.567282</td>\n",
              "      <td>6.204660</td>\n",
              "      <td>972.918932</td>\n",
              "      <td>773.580485</td>\n",
              "      <td>45.662136</td>\n",
              "      <td>35.817961</td>\n",
              "    </tr>\n",
              "    <tr>\n",
              "      <th>std</th>\n",
              "      <td>104.506364</td>\n",
              "      <td>86.279342</td>\n",
              "      <td>63.997004</td>\n",
              "      <td>21.354219</td>\n",
              "      <td>5.973841</td>\n",
              "      <td>77.753954</td>\n",
              "      <td>80.175980</td>\n",
              "      <td>63.169912</td>\n",
              "      <td>16.705742</td>\n",
              "    </tr>\n",
              "    <tr>\n",
              "      <th>min</th>\n",
              "      <td>102.000000</td>\n",
              "      <td>0.000000</td>\n",
              "      <td>0.000000</td>\n",
              "      <td>121.800000</td>\n",
              "      <td>0.000000</td>\n",
              "      <td>801.000000</td>\n",
              "      <td>594.000000</td>\n",
              "      <td>1.000000</td>\n",
              "      <td>2.330000</td>\n",
              "    </tr>\n",
              "    <tr>\n",
              "      <th>25%</th>\n",
              "      <td>192.375000</td>\n",
              "      <td>0.000000</td>\n",
              "      <td>0.000000</td>\n",
              "      <td>164.900000</td>\n",
              "      <td>0.000000</td>\n",
              "      <td>932.000000</td>\n",
              "      <td>730.950000</td>\n",
              "      <td>7.000000</td>\n",
              "      <td>23.710000</td>\n",
              "    </tr>\n",
              "    <tr>\n",
              "      <th>50%</th>\n",
              "      <td>272.900000</td>\n",
              "      <td>22.000000</td>\n",
              "      <td>0.000000</td>\n",
              "      <td>185.000000</td>\n",
              "      <td>6.400000</td>\n",
              "      <td>968.000000</td>\n",
              "      <td>779.500000</td>\n",
              "      <td>28.000000</td>\n",
              "      <td>34.445000</td>\n",
              "    </tr>\n",
              "    <tr>\n",
              "      <th>75%</th>\n",
              "      <td>350.000000</td>\n",
              "      <td>142.950000</td>\n",
              "      <td>118.300000</td>\n",
              "      <td>192.000000</td>\n",
              "      <td>10.200000</td>\n",
              "      <td>1029.400000</td>\n",
              "      <td>824.000000</td>\n",
              "      <td>56.000000</td>\n",
              "      <td>46.135000</td>\n",
              "    </tr>\n",
              "    <tr>\n",
              "      <th>max</th>\n",
              "      <td>540.000000</td>\n",
              "      <td>359.400000</td>\n",
              "      <td>200.100000</td>\n",
              "      <td>247.000000</td>\n",
              "      <td>32.200000</td>\n",
              "      <td>1145.000000</td>\n",
              "      <td>992.600000</td>\n",
              "      <td>365.000000</td>\n",
              "      <td>82.600000</td>\n",
              "    </tr>\n",
              "  </tbody>\n",
              "</table>\n",
              "</div>"
            ],
            "text/plain": [
              "       Cement (component 1)(kg in a m^3 mixture)  ...  Concrete compressive strength(MPa, megapascals) \n",
              "count                                1030.000000  ...                                       1030.000000\n",
              "mean                                  281.167864  ...                                         35.817961\n",
              "std                                   104.506364  ...                                         16.705742\n",
              "min                                   102.000000  ...                                          2.330000\n",
              "25%                                   192.375000  ...                                         23.710000\n",
              "50%                                   272.900000  ...                                         34.445000\n",
              "75%                                   350.000000  ...                                         46.135000\n",
              "max                                   540.000000  ...                                         82.600000\n",
              "\n",
              "[8 rows x 9 columns]"
            ]
          },
          "metadata": {
            "tags": []
          },
          "execution_count": 10
        }
      ]
    },
    {
      "cell_type": "code",
      "metadata": {
        "colab": {
          "base_uri": "https://localhost:8080/"
        },
        "id": "NHZ4H5GPSUz8",
        "outputId": "e852f2df-ad54-486d-c585-1df0e0e04994"
      },
      "source": [
        "df.info()"
      ],
      "execution_count": null,
      "outputs": [
        {
          "output_type": "stream",
          "text": [
            "<class 'pandas.core.frame.DataFrame'>\n",
            "RangeIndex: 1030 entries, 0 to 1029\n",
            "Data columns (total 9 columns):\n",
            " #   Column                                                 Non-Null Count  Dtype  \n",
            "---  ------                                                 --------------  -----  \n",
            " 0   Cement (component 1)(kg in a m^3 mixture)              1030 non-null   float64\n",
            " 1   Blast Furnace Slag (component 2)(kg in a m^3 mixture)  1030 non-null   float64\n",
            " 2   Fly Ash (component 3)(kg in a m^3 mixture)             1030 non-null   float64\n",
            " 3   Water  (component 4)(kg in a m^3 mixture)              1030 non-null   float64\n",
            " 4   Superplasticizer (component 5)(kg in a m^3 mixture)    1030 non-null   float64\n",
            " 5   Coarse Aggregate  (component 6)(kg in a m^3 mixture)   1030 non-null   float64\n",
            " 6   Fine Aggregate (component 7)(kg in a m^3 mixture)      1030 non-null   float64\n",
            " 7   Age (day)                                              1030 non-null   int64  \n",
            " 8   Concrete compressive strength(MPa, megapascals)        1030 non-null   float64\n",
            "dtypes: float64(8), int64(1)\n",
            "memory usage: 72.5 KB\n"
          ],
          "name": "stdout"
        }
      ]
    },
    {
      "cell_type": "code",
      "metadata": {
        "colab": {
          "base_uri": "https://localhost:8080/"
        },
        "id": "1BOyIHonVu9W",
        "outputId": "85db5f84-0db8-48f0-82fa-f9bffbfa3aee"
      },
      "source": [
        "df.keys()# to gets columns name"
      ],
      "execution_count": null,
      "outputs": [
        {
          "output_type": "execute_result",
          "data": {
            "text/plain": [
              "Index(['Cement (component 1)(kg in a m^3 mixture)',\n",
              "       'Blast Furnace Slag (component 2)(kg in a m^3 mixture)',\n",
              "       'Fly Ash (component 3)(kg in a m^3 mixture)',\n",
              "       'Water  (component 4)(kg in a m^3 mixture)',\n",
              "       'Superplasticizer (component 5)(kg in a m^3 mixture)',\n",
              "       'Coarse Aggregate  (component 6)(kg in a m^3 mixture)',\n",
              "       'Fine Aggregate (component 7)(kg in a m^3 mixture)', 'Age (day)',\n",
              "       'Concrete compressive strength(MPa, megapascals) '],\n",
              "      dtype='object')"
            ]
          },
          "metadata": {
            "tags": []
          },
          "execution_count": 12
        }
      ]
    },
    {
      "cell_type": "code",
      "metadata": {
        "id": "0pI6EOmVSYA9"
      },
      "source": [
        "# split dataframe into input and output\n",
        "data=df.iloc[:,:8]\n",
        "\n",
        "targets=df.iloc[:,-1]"
      ],
      "execution_count": null,
      "outputs": []
    },
    {
      "cell_type": "code",
      "metadata": {
        "colab": {
          "base_uri": "https://localhost:8080/",
          "height": 1000
        },
        "id": "VgcX-c4uV9H1",
        "outputId": "59f1ac44-db15-4665-e473-eacade8ce4bb"
      },
      "source": [
        "%matplotlib inline\n",
        "import matplotlib.pyplot as plt\n",
        "plt.style.use('ggplot')\n",
        "pd.DataFrame.hist(data, figsize = [30,30], color=\"blue\")\n",
        "plt.show()"
      ],
      "execution_count": null,
      "outputs": [
        {
          "output_type": "display_data",
          "data": {
            "image/png": "[encoded data removed]",
            "text/plain": [
              "<Figure size 2160x2160 with 9 Axes>"
            ]
          },
          "metadata": {
            "tags": []
          }
        }
      ]
    },
    {
      "cell_type": "code",
      "metadata": {
        "colab": {
          "base_uri": "https://localhost:8080/",
          "height": 445
        },
        "id": "zNhK-R69vqFN",
        "outputId": "ac921baf-4831-436d-a098-11b276f1432f"
      },
      "source": [
        "plt.style.use('ggplot')\n",
        "targets.hist( figsize = [7,7], color=\"Blue\")\n",
        "plt.title(\"Actual Targets\")\n",
        "plt.show()"
      ],
      "execution_count": null,
      "outputs": [
        {
          "output_type": "display_data",
          "data": {
            "image/png": "[encoded data removed]",
            "text/plain": [
              "<Figure size 504x504 with 1 Axes>"
            ]
          },
          "metadata": {
            "tags": []
          }
        }
      ]
    },
    {
      "cell_type": "code",
      "metadata": {
        "id": "mel2k2Nwf0LI"
      },
      "source": [
        "# standardized or normalized the data (input variables)\n",
        "mean = data.mean(axis=0)\n",
        "data-= mean\n",
        "std = data.std(axis=0)\n",
        "data/= std"
      ],
      "execution_count": null,
      "outputs": []
    },
    {
      "cell_type": "code",
      "metadata": {
        "id": "e6Q4b8UpXI8a"
      },
      "source": [
        "# data spliting using machine learning spliting method\n",
        "from sklearn.model_selection import train_test_split\n",
        "X_train,X_test,y_train,y_test=train_test_split(data,targets,random_state=0)"
      ],
      "execution_count": null,
      "outputs": []
    },
    {
      "cell_type": "code",
      "metadata": {
        "colab": {
          "base_uri": "https://localhost:8080/"
        },
        "id": "cxld28AodAxY",
        "outputId": "e5da58d3-cd17-4a7b-eb25-dc80fcfeb682"
      },
      "source": [
        "print(f\"Shape of training data :{X_train.shape},\\nShape of training targets:{y_train.shape}\")"
      ],
      "execution_count": null,
      "outputs": [
        {
          "output_type": "stream",
          "text": [
            "Shape of training data :(772, 8),\n",
            "Shape of training targets:(772,)\n"
          ],
          "name": "stdout"
        }
      ]
    },
    {
      "cell_type": "code",
      "metadata": {
        "colab": {
          "base_uri": "https://localhost:8080/"
        },
        "id": "XsIXmksBdKGl",
        "outputId": "3b57388b-e62d-4f52-ceba-733d8c60ad30"
      },
      "source": [
        "print(f\"Shape of testing data :{X_test.shape},\\nShape of testing targets:{y_test.shape}\")"
      ],
      "execution_count": null,
      "outputs": [
        {
          "output_type": "stream",
          "text": [
            "Shape of testing data :(258, 8),\n",
            "Shape of testing targets:(258,)\n"
          ],
          "name": "stdout"
        }
      ]
    },
    {
      "cell_type": "code",
      "metadata": {
        "id": "pJ4OdxP9g5Wa"
      },
      "source": [
        "X_train= np.asarray(X_train).astype('float32')\n",
        "X_test= np.asarray(X_test).astype('float32')\n"
      ],
      "execution_count": null,
      "outputs": []
    },
    {
      "cell_type": "code",
      "metadata": {
        "id": "uTKLaC-_jgZC"
      },
      "source": [
        "val_X = X_train[:230]\n",
        "partial_X_train=X_train[230:]\n",
        "val_y=y_train[:230]\n",
        "partial_y_train=y_train[230:]\n"
      ],
      "execution_count": null,
      "outputs": []
    },
    {
      "cell_type": "code",
      "metadata": {
        "id": "yI9PhkMyhH9Q"
      },
      "source": [
        "from keras import models, layers , optimizers"
      ],
      "execution_count": null,
      "outputs": []
    },
    {
      "cell_type": "code",
      "metadata": {
        "id": "FBHIpQiNhLsk"
      },
      "source": [
        "network=models.Sequential()\n",
        "network.add(tf.keras.layers.Dense(10,activation=\"relu\",input_shape=(X_train.shape[1],)))\n",
        "network.add(tf.keras.layers.Dense(8,activation=\"relu\"))\n",
        "network.add(tf.keras.layers.Dense(1))\n"
      ],
      "execution_count": null,
      "outputs": []
    },
    {
      "cell_type": "code",
      "metadata": {
        "colab": {
          "base_uri": "https://localhost:8080/"
        },
        "id": "vxNlTIfWihRB",
        "outputId": "0ff64be2-8f5c-4ff5-c484-9c53b6632f97"
      },
      "source": [
        "network.summary()"
      ],
      "execution_count": null,
      "outputs": [
        {
          "output_type": "stream",
          "text": [
            "Model: \"sequential\"\n",
            "_________________________________________________________________\n",
            "Layer (type)                 Output Shape              Param #   \n",
            "=================================================================\n",
            "dense (Dense)                (None, 10)                90        \n",
            "_________________________________________________________________\n",
            "dense_1 (Dense)              (None, 8)                 88        \n",
            "_________________________________________________________________\n",
            "dense_2 (Dense)              (None, 1)                 9         \n",
            "=================================================================\n",
            "Total params: 187\n",
            "Trainable params: 187\n",
            "Non-trainable params: 0\n",
            "_________________________________________________________________\n"
          ],
          "name": "stdout"
        }
      ]
    },
    {
      "cell_type": "code",
      "metadata": {
        "id": "DojP0-ZZipQE"
      },
      "source": [
        "network.compile(optimizer=optimizers.RMSprop(lr=0.001), loss=\"mse\",metrics=['mae'])"
      ],
      "execution_count": null,
      "outputs": []
    },
    {
      "cell_type": "code",
      "metadata": {
        "colab": {
          "base_uri": "https://localhost:8080/"
        },
        "id": "KE-wc1irh7dL",
        "outputId": "995b2b50-6ae0-44b4-ee43-996697758467"
      },
      "source": [
        "history=network.fit(partial_X_train,partial_y_train,epochs=10,validation_data=(val_X,val_y),batch_size=1,verbose=1)"
      ],
      "execution_count": null,
      "outputs": [
        {
          "output_type": "stream",
          "text": [
            "Epoch 1/10\n",
            "542/542 [==============================] - 2s 2ms/step - loss: 1461.2560 - mae: 34.1312 - val_loss: 1065.6289 - val_mae: 28.0690\n",
            "Epoch 2/10\n",
            "542/542 [==============================] - 1s 1ms/step - loss: 729.7693 - mae: 21.6230 - val_loss: 359.5646 - val_mae: 15.0156\n",
            "Epoch 3/10\n",
            "542/542 [==============================] - 1s 1ms/step - loss: 222.1728 - mae: 11.9198 - val_loss: 222.4032 - val_mae: 11.9751\n",
            "Epoch 4/10\n",
            "542/542 [==============================] - 1s 1ms/step - loss: 159.4297 - mae: 10.3592 - val_loss: 181.7490 - val_mae: 10.8881\n",
            "Epoch 5/10\n",
            "542/542 [==============================] - 1s 1ms/step - loss: 154.6321 - mae: 9.9092 - val_loss: 162.4872 - val_mae: 10.2238\n",
            "Epoch 6/10\n",
            "542/542 [==============================] - 1s 1ms/step - loss: 146.0368 - mae: 9.7399 - val_loss: 154.1859 - val_mae: 9.9882\n",
            "Epoch 7/10\n",
            "542/542 [==============================] - 1s 1ms/step - loss: 137.2969 - mae: 9.3021 - val_loss: 148.4095 - val_mae: 9.7609\n",
            "Epoch 8/10\n",
            "542/542 [==============================] - 1s 1ms/step - loss: 147.0619 - mae: 9.5544 - val_loss: 144.9237 - val_mae: 9.6665\n",
            "Epoch 9/10\n",
            "542/542 [==============================] - 1s 1ms/step - loss: 155.8143 - mae: 9.7346 - val_loss: 139.3832 - val_mae: 9.4180\n",
            "Epoch 10/10\n",
            "542/542 [==============================] - 1s 1ms/step - loss: 139.8913 - mae: 9.1660 - val_loss: 136.0524 - val_mae: 9.3542\n"
          ],
          "name": "stdout"
        }
      ]
    },
    {
      "cell_type": "code",
      "metadata": {
        "colab": {
          "base_uri": "https://localhost:8080/",
          "height": 299
        },
        "id": "XY28DpqQlLYr",
        "outputId": "4118e0e3-807c-4738-dd7f-2c3cfe4ef547"
      },
      "source": [
        "loss = history.history['loss']\n",
        "val_loss = history.history['val_loss']\n",
        "epochs = range(1, len(loss) + 1)\n",
        "plt.plot(epochs, loss, 'bo', label='Training loss')\n",
        "plt.plot(epochs, val_loss, 'b', label='Validation loss')\n",
        "plt.title('Training and validation loss')\n",
        "plt.xlabel('Epochs')\n",
        "plt.ylabel('Loss')\n",
        "plt.legend()\n",
        "plt.show()"
      ],
      "execution_count": null,
      "outputs": [
        {
          "output_type": "display_data",
          "data": {
            "image/png": "[encoded data removed]",
            "text/plain": [
              "<Figure size 432x288 with 1 Axes>"
            ]
          },
          "metadata": {
            "tags": []
          }
        }
      ]
    },
    {
      "cell_type": "code",
      "metadata": {
        "colab": {
          "base_uri": "https://localhost:8080/"
        },
        "id": "425Sn4TpmDgv",
        "outputId": "fb92ebde-414d-4ff6-b86e-fd316ad4fb31"
      },
      "source": [
        "all_mae_histories=[]\n",
        "mae_history = history.history['val_mae']\n",
        "all_mae_histories.append(mae_history)\n",
        "print(all_mae_histories)"
      ],
      "execution_count": null,
      "outputs": [
        {
          "output_type": "stream",
          "text": [
            "[[28.069013595581055, 15.01555061340332, 11.975093841552734, 10.888113975524902, 10.223847389221191, 9.988198280334473, 9.760903358459473, 9.666463851928711, 9.41801929473877, 9.354174613952637]]\n"
          ],
          "name": "stdout"
        }
      ]
    },
    {
      "cell_type": "code",
      "metadata": {
        "colab": {
          "base_uri": "https://localhost:8080/"
        },
        "id": "eYbwAuH9n0MS",
        "outputId": "3395f62c-b289-42bb-b3d8-69e27f807032"
      },
      "source": [
        "average_mae_history = [np.mean([x[i] for x in all_mae_histories]) for i in range(2)]\n",
        "print(average_mae_history)"
      ],
      "execution_count": null,
      "outputs": [
        {
          "output_type": "stream",
          "text": [
            "[28.069013595581055, 15.01555061340332]\n"
          ],
          "name": "stdout"
        }
      ]
    },
    {
      "cell_type": "code",
      "metadata": {
        "colab": {
          "base_uri": "https://localhost:8080/",
          "height": 299
        },
        "id": "_QIM2eiRmxTw",
        "outputId": "525e499e-0655-491f-eaf4-5f73c12f9de9"
      },
      "source": [
        "plt.plot(range(1, len(average_mae_history) + 1), average_mae_history)\n",
        "plt.title('Validation MAE by Epochs')\n",
        "plt.xlabel('Epochs')\n",
        "plt.ylabel('Validation MAE')\n",
        "plt.grid()\n",
        "plt.show()"
      ],
      "execution_count": null,
      "outputs": [
        {
          "output_type": "display_data",
          "data": {
            "image/png": "[encoded data removed]",
            "text/plain": [
              "<Figure size 432x288 with 1 Axes>"
            ]
          },
          "metadata": {
            "tags": []
          }
        }
      ]
    },
    {
      "cell_type": "code",
      "metadata": {
        "colab": {
          "base_uri": "https://localhost:8080/"
        },
        "id": "aedgvZfCoEqr",
        "outputId": "ed2b854c-95f4-4f8a-a342-7c17a85aea11"
      },
      "source": [
        "test_mse_score, test_mae_score = network.evaluate(X_test, y_test)"
      ],
      "execution_count": null,
      "outputs": [
        {
          "output_type": "stream",
          "text": [
            "9/9 [==============================] - 0s 2ms/step - loss: 124.6163 - mae: 9.0399\n"
          ],
          "name": "stdout"
        }
      ]
    },
    {
      "cell_type": "code",
      "metadata": {
        "colab": {
          "base_uri": "https://localhost:8080/"
        },
        "id": "VGsxBThTqvjm",
        "outputId": "cc743a92-3da6-40c6-e5b8-84d328804bb8"
      },
      "source": [
        " test_mae_score"
      ],
      "execution_count": null,
      "outputs": [
        {
          "output_type": "execute_result",
          "data": {
            "text/plain": [
              "9.039871215820312"
            ]
          },
          "metadata": {
            "tags": []
          },
          "execution_count": 33
        }
      ]
    },
    {
      "cell_type": "code",
      "metadata": {
        "colab": {
          "base_uri": "https://localhost:8080/"
        },
        "id": "qepWbko8rXy7",
        "outputId": "6d6f6cc1-fd06-4a33-c1dc-f36f23443bf5"
      },
      "source": [
        "y_pred = network.predict(X_test)\n",
        "y_pred"
      ],
      "execution_count": null,
      "outputs": [
        {
          "output_type": "execute_result",
          "data": {
            "text/plain": [
              "array([[39.113586],\n",
              "       [18.135221],\n",
              "       [60.87518 ],\n",
              "       [50.878555],\n",
              "       [26.65454 ],\n",
              "       [58.52737 ],\n",
              "       [48.55915 ],\n",
              "       [27.470388],\n",
              "       [54.68668 ],\n",
              "       [38.600105],\n",
              "       [18.570786],\n",
              "       [44.121216],\n",
              "       [21.605055],\n",
              "       [32.479893],\n",
              "       [47.804882],\n",
              "       [56.36705 ],\n",
              "       [35.22813 ],\n",
              "       [24.939325],\n",
              "       [51.433945],\n",
              "       [26.346716],\n",
              "       [48.58674 ],\n",
              "       [33.017147],\n",
              "       [31.200987],\n",
              "       [51.06288 ],\n",
              "       [21.051512],\n",
              "       [21.013308],\n",
              "       [77.59138 ],\n",
              "       [26.797613],\n",
              "       [56.36705 ],\n",
              "       [46.99302 ],\n",
              "       [18.827135],\n",
              "       [34.220055],\n",
              "       [16.39748 ],\n",
              "       [22.863953],\n",
              "       [22.603487],\n",
              "       [16.437078],\n",
              "       [57.96027 ],\n",
              "       [24.558449],\n",
              "       [27.01982 ],\n",
              "       [21.971571],\n",
              "       [50.344543],\n",
              "       [27.114882],\n",
              "       [22.26648 ],\n",
              "       [33.03682 ],\n",
              "       [57.314106],\n",
              "       [53.625885],\n",
              "       [27.301071],\n",
              "       [44.76712 ],\n",
              "       [31.795542],\n",
              "       [66.021935],\n",
              "       [32.793503],\n",
              "       [16.337032],\n",
              "       [28.433313],\n",
              "       [28.74381 ],\n",
              "       [44.71842 ],\n",
              "       [42.571674],\n",
              "       [33.381836],\n",
              "       [51.09453 ],\n",
              "       [60.69786 ],\n",
              "       [35.79951 ],\n",
              "       [28.268513],\n",
              "       [15.112133],\n",
              "       [45.53134 ],\n",
              "       [62.557907],\n",
              "       [17.326883],\n",
              "       [43.688225],\n",
              "       [29.08698 ],\n",
              "       [39.361794],\n",
              "       [23.310715],\n",
              "       [19.52429 ],\n",
              "       [27.131975],\n",
              "       [27.840847],\n",
              "       [54.03102 ],\n",
              "       [17.872889],\n",
              "       [30.450998],\n",
              "       [48.160053],\n",
              "       [20.95915 ],\n",
              "       [17.877335],\n",
              "       [21.230867],\n",
              "       [21.948729],\n",
              "       [19.50982 ],\n",
              "       [44.477943],\n",
              "       [29.010044],\n",
              "       [27.769732],\n",
              "       [30.946701],\n",
              "       [32.727135],\n",
              "       [41.51429 ],\n",
              "       [43.926414],\n",
              "       [40.148636],\n",
              "       [33.122032],\n",
              "       [50.62182 ],\n",
              "       [16.72829 ],\n",
              "       [26.0322  ],\n",
              "       [37.67633 ],\n",
              "       [33.730957],\n",
              "       [60.865185],\n",
              "       [29.442923],\n",
              "       [32.203148],\n",
              "       [45.197903],\n",
              "       [22.831717],\n",
              "       [22.787424],\n",
              "       [37.80509 ],\n",
              "       [18.043673],\n",
              "       [32.871185],\n",
              "       [34.677425],\n",
              "       [32.148098],\n",
              "       [35.198395],\n",
              "       [33.617157],\n",
              "       [24.313175],\n",
              "       [38.460632],\n",
              "       [20.772627],\n",
              "       [55.517765],\n",
              "       [22.927824],\n",
              "       [27.408754],\n",
              "       [37.733505],\n",
              "       [66.278244],\n",
              "       [28.57741 ],\n",
              "       [40.667244],\n",
              "       [39.92714 ],\n",
              "       [26.16606 ],\n",
              "       [41.432743],\n",
              "       [23.496252],\n",
              "       [62.31402 ],\n",
              "       [17.954754],\n",
              "       [22.219273],\n",
              "       [17.884642],\n",
              "       [17.56246 ],\n",
              "       [22.574503],\n",
              "       [35.000847],\n",
              "       [26.475584],\n",
              "       [27.563921],\n",
              "       [52.17083 ],\n",
              "       [24.268415],\n",
              "       [29.588366],\n",
              "       [18.168247],\n",
              "       [49.669857],\n",
              "       [70.8465  ],\n",
              "       [33.461235],\n",
              "       [18.771364],\n",
              "       [21.00815 ],\n",
              "       [37.217274],\n",
              "       [51.93406 ],\n",
              "       [23.691124],\n",
              "       [25.530588],\n",
              "       [18.418219],\n",
              "       [36.658012],\n",
              "       [40.43117 ],\n",
              "       [20.001125],\n",
              "       [21.648836],\n",
              "       [18.387083],\n",
              "       [19.97642 ],\n",
              "       [38.572475],\n",
              "       [18.922838],\n",
              "       [23.116175],\n",
              "       [27.75907 ],\n",
              "       [25.590666],\n",
              "       [45.313225],\n",
              "       [28.017273],\n",
              "       [25.181063],\n",
              "       [18.004091],\n",
              "       [40.753235],\n",
              "       [39.590595],\n",
              "       [32.173073],\n",
              "       [22.844923],\n",
              "       [32.602394],\n",
              "       [19.460875],\n",
              "       [66.067215],\n",
              "       [51.706722],\n",
              "       [66.37496 ],\n",
              "       [11.493649],\n",
              "       [29.450804],\n",
              "       [27.744806],\n",
              "       [19.936468],\n",
              "       [68.824486],\n",
              "       [20.84506 ],\n",
              "       [18.077284],\n",
              "       [27.967619],\n",
              "       [46.876446],\n",
              "       [21.128382],\n",
              "       [43.8742  ],\n",
              "       [33.857697],\n",
              "       [32.624283],\n",
              "       [18.117712],\n",
              "       [42.751476],\n",
              "       [31.309217],\n",
              "       [31.696264],\n",
              "       [40.952194],\n",
              "       [36.822517],\n",
              "       [26.814718],\n",
              "       [45.53134 ],\n",
              "       [18.234537],\n",
              "       [81.85082 ],\n",
              "       [43.922184],\n",
              "       [25.16746 ],\n",
              "       [19.948421],\n",
              "       [26.963438],\n",
              "       [30.30702 ],\n",
              "       [29.117533],\n",
              "       [26.537851],\n",
              "       [57.07096 ],\n",
              "       [15.566776],\n",
              "       [18.213175],\n",
              "       [47.374416],\n",
              "       [30.375505],\n",
              "       [29.159075],\n",
              "       [16.073902],\n",
              "       [37.45295 ],\n",
              "       [26.6065  ],\n",
              "       [29.518827],\n",
              "       [21.034224],\n",
              "       [48.45186 ],\n",
              "       [19.40195 ],\n",
              "       [20.016685],\n",
              "       [23.955622],\n",
              "       [28.07029 ],\n",
              "       [22.507006],\n",
              "       [19.751638],\n",
              "       [38.928055],\n",
              "       [17.43411 ],\n",
              "       [35.802742],\n",
              "       [57.930683],\n",
              "       [27.611814],\n",
              "       [40.25804 ],\n",
              "       [38.973835],\n",
              "       [47.481068],\n",
              "       [34.851276],\n",
              "       [21.576336],\n",
              "       [29.692026],\n",
              "       [32.929447],\n",
              "       [45.787544],\n",
              "       [36.33086 ],\n",
              "       [35.206947],\n",
              "       [62.264923],\n",
              "       [19.94463 ],\n",
              "       [37.38976 ],\n",
              "       [29.497992],\n",
              "       [30.523918],\n",
              "       [43.60543 ],\n",
              "       [30.223604],\n",
              "       [58.714813],\n",
              "       [65.47436 ],\n",
              "       [29.014507],\n",
              "       [43.489212],\n",
              "       [29.535398],\n",
              "       [24.12842 ],\n",
              "       [25.451683],\n",
              "       [41.70266 ],\n",
              "       [20.939943],\n",
              "       [32.21836 ],\n",
              "       [14.250006],\n",
              "       [11.66081 ],\n",
              "       [38.961338],\n",
              "       [38.226078],\n",
              "       [32.74496 ],\n",
              "       [34.561314],\n",
              "       [20.030228],\n",
              "       [23.325054],\n",
              "       [16.612011]], dtype=float32)"
            ]
          },
          "metadata": {
            "tags": []
          },
          "execution_count": 34
        }
      ]
    },
    {
      "cell_type": "code",
      "metadata": {
        "colab": {
          "base_uri": "https://localhost:8080/"
        },
        "id": "dBdthc-vsw4_",
        "outputId": "26396fce-f8a4-4e66-ebf0-65fae408d4c7"
      },
      "source": [
        "y_test"
      ],
      "execution_count": null,
      "outputs": [
        {
          "output_type": "execute_result",
          "data": {
            "text/plain": [
              "747    26.06\n",
              "718    10.35\n",
              "175    79.30\n",
              "828    74.99\n",
              "713     9.69\n",
              "       ...  \n",
              "453    31.72\n",
              "906    39.42\n",
              "757    18.13\n",
              "875    18.28\n",
              "62      9.87\n",
              "Name: Concrete compressive strength(MPa, megapascals) , Length: 258, dtype: float64"
            ]
          },
          "metadata": {
            "tags": []
          },
          "execution_count": 35
        }
      ]
    },
    {
      "cell_type": "code",
      "metadata": {
        "colab": {
          "base_uri": "https://localhost:8080/",
          "height": 337
        },
        "id": "osFYrcPkrnnE",
        "outputId": "e996453d-8cf9-4cc7-a721-ab849c4ab620"
      },
      "source": [
        "plt.figure(figsize=(20,5))\n",
        "plt.subplot(1, 2, 1 )\n",
        "plt.hist(targets)\n",
        "plt.xlabel('original target value')\n",
        "plt.ylabel('count')\n",
        "plt.subplot(1, 2, 2)\n",
        "plt.hist(y_pred)\n",
        "plt.xlabel('aggregated target value')\n",
        "plt.show()"
      ],
      "execution_count": null,
      "outputs": [
        {
          "output_type": "display_data",
          "data": {
            "image/png": "[encoded data removed]",
            "text/plain": [
              "<Figure size 1440x360 with 2 Axes>"
            ]
          },
          "metadata": {
            "tags": []
          }
        }
      ]
    }
  ]
}