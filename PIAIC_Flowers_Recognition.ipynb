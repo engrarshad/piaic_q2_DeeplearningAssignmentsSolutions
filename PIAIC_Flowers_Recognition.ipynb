{
  "nbformat": 4,
  "nbformat_minor": 0,
  "metadata": {
    "accelerator": "GPU",
    "colab": {
      "name": "Copy of PIAIC_Flowers_Recognition.ipynb",
      "provenance": [],
      "collapsed_sections": [],
      "include_colab_link": true
    },
    "kernelspec": {
      "display_name": "Python 3",
      "language": "python",
      "name": "python3"
    },
    "language_info": {
      "codemirror_mode": {
        "name": "ipython",
        "version": 3
      },
      "file_extension": ".py",
      "mimetype": "text/x-python",
      "name": "python",
      "nbconvert_exporter": "python",
      "pygments_lexer": "ipython3",
      "version": "3.8.5"
    }
  },
  "cells": [
    {
      "cell_type": "markdown",
      "metadata": {
        "id": "view-in-github",
        "colab_type": "text"
      },
      "source": [
        "<a href=\"https://colab.research.google.com/github/engrarshad/piaic_q2_DeeplearningAssignmentsSolutions/blob/main/PIAIC_Flowers_Recognition.ipynb\" target=\"_parent\"><img src=\"https://colab.research.google.com/assets/colab-badge.svg\" alt=\"Open In Colab\"/></a>"
      ]
    },
    {
      "cell_type": "markdown",
      "metadata": {
        "id": "BXgJ6uT1NydQ"
      },
      "source": [
        "Assignment: Flowers Recognition <br>\n",
        "Dataset Description:<br>\n",
        "\n",
        "This dataset contains 4242 images of flowers.<br>\n",
        "The data collection is based on the data flicr, google images, yandex images.<br>\n",
        "You can use this datastet to recognize plants from the photo.<br>\n",
        "\n",
        "Attribute Information:<br>\n",
        "The pictures are divided into five classes: chamomile, tulip, rose, sunflower, dandelion.<br>\n",
        "For each class there are about 800 photos. Photos are not high resolution, about 320x240 pixels. <br>\n",
        "<b>Also explore how to resize images in tensorflow and then resize all the images to a same size. </b> <br>\n",
        "This is a Multiclass Classification Problem.<br>\n",
        "\n",
        "\n"
      ]
    },
    {
      "cell_type": "markdown",
      "metadata": {
        "id": "T7vy-ktuOKJH"
      },
      "source": [
        "WORKFLOW : <br>\n",
        "Load Data <br>\n",
        "Split into 60 and 40 ratio.<br>\n",
        "Encode labels.<br>\n",
        "Create Model<br>\n",
        "Compilation Step (Note : Its a Multiclass Classification problem , select loss , metrics according to it)<br>\n",
        "Train the Model.<br>\n",
        "If the model gets overfit tune your model by changing the units , No. of layers , epochs , add dropout layer or add Regularizer according to the need .<br>\n",
        "Prediction should be > 85%<br>\n",
        "Evaluation Step<br>\n",
        "Prediction<br>\n",
        "\n",
        "\n"
      ]
    },
    {
      "cell_type": "markdown",
      "metadata": {
        "id": "ri3Bg5qfPRic"
      },
      "source": [
        "Data : <br>\n",
        "https://drive.google.com/file/d/1-OX6wn5gA-bJpjPNfSyaYQLz-A-AB_uj/view?usp=sharing"
      ]
    },
    {
      "cell_type": "code",
      "metadata": {
        "id": "hTtg3WuGTA1o"
      },
      "source": [
        "import matplotlib.pyplot as plt\n",
        "import numpy as np\n",
        "import cv2\n",
        "import pandas as pd\n",
        "import pathlib\n",
        "from pathlib import Path"
      ],
      "execution_count": null,
      "outputs": []
    },
    {
      "cell_type": "code",
      "metadata": {
        "colab": {
          "base_uri": "https://localhost:8080/"
        },
        "id": "nMx-7wNuHBQu",
        "outputId": "6cc229a7-ede6-494c-f46a-4a916ae753b7"
      },
      "source": [
        "from google.colab import drive\n",
        "drive.mount(\"/content/drive\")"
      ],
      "execution_count": null,
      "outputs": [
        {
          "output_type": "stream",
          "text": [
            "Drive already mounted at /content/drive; to attempt to forcibly remount, call drive.mount(\"/content/drive\", force_remount=True).\n"
          ],
          "name": "stdout"
        }
      ]
    },
    {
      "cell_type": "code",
      "metadata": {
        "colab": {
          "base_uri": "https://localhost:8080/"
        },
        "id": "BcgVpzDLPtAb",
        "outputId": "64928659-a9bf-474f-bd1f-67ba32e08041"
      },
      "source": [
        "# Loading Data And Defining Features And Labels\n",
        "directory = Path(\"/content/drive/MyDrive/AIAssignments/flowers/flowers\")\n",
        "\n",
        "image_names = []\n",
        "data_images = []\n",
        "labels = []\n",
        "\n",
        "# Iterating Over Directory To Extract Sub Directories\n",
        "for dir in directory.iterdir():\n",
        "  image_names.append(dir.name)\n",
        "  print(dir.name)\n",
        "# Iterating Over Sub Directories To Extract Lables\n",
        "  for imgpath in dir.iterdir():\n",
        "    if imgpath.name.endswith(\"jpg\"):\n",
        "      labels.append(dir.name)\n",
        "      imgarr = cv2.imread(str(imgpath), cv2.IMREAD_GRAYSCALE)\n",
        "      imgarr = cv2.resize(imgarr, (320,240))\n",
        "      data_images.append(imgarr)"
      ],
      "execution_count": null,
      "outputs": [
        {
          "output_type": "stream",
          "text": [
            "dandelion\n",
            "sunflower\n",
            "rose\n",
            "tulip\n",
            "daisy\n"
          ],
          "name": "stdout"
        }
      ]
    },
    {
      "cell_type": "code",
      "metadata": {
        "id": "Bq5M5N3OyIpo"
      },
      "source": [
        "# maping the string label into numeric \n",
        "df=pd.DataFrame(labels)\n",
        "labels=df[0].map({\"rose\":0,\"sunflower\":1,\"tulip\":2,\"daisy\":3,\"dandelion\":4})\n"
      ],
      "execution_count": null,
      "outputs": []
    },
    {
      "cell_type": "code",
      "metadata": {
        "id": "PVCjHSU4H1yP"
      },
      "source": [
        "# data and label spliting by machine learning libarary\n",
        "import sklearn\n",
        "from sklearn.model_selection import train_test_split\n",
        "X_train,X_test,y_train,y_test=train_test_split(data_images,labels,test_size=.40,random_state=0)"
      ],
      "execution_count": null,
      "outputs": []
    },
    {
      "cell_type": "code",
      "metadata": {
        "id": "mDomXtB4yp8N"
      },
      "source": [
        "#convert data into numpy array and data type float\n",
        "X_train=np.asarray(X_train).astype(\"float32\")\n",
        "X_test=np.asarray(X_test).astype(\"float32\")\n",
        "\n"
      ],
      "execution_count": null,
      "outputs": []
    },
    {
      "cell_type": "code",
      "metadata": {
        "colab": {
          "base_uri": "https://localhost:8080/"
        },
        "id": "Y5oX13lcyuzM",
        "outputId": "02831980-ba32-4b26-8e2d-aac1fcab1587"
      },
      "source": [
        "\n",
        "# Check the shape of training data,testing data,training labels,testing labels\n",
        "print(f\"shape of training data is :{X_train.shape}\\nshape of training label is :{y_train.shape}\\nshape of testing data is :{X_test.shape}\\nshape of testing label is :{y_test.shape}\")"
      ],
      "execution_count": null,
      "outputs": [
        {
          "output_type": "stream",
          "text": [
            "shape of training data is :(2595, 240, 320)\n",
            "shape of training label is :(2595,)\n",
            "shape of testing data is :(1730, 240, 320)\n",
            "shape of testing label is :(1730,)\n"
          ],
          "name": "stdout"
        }
      ]
    },
    {
      "cell_type": "code",
      "metadata": {
        "id": "5h0E4IDjiHu7"
      },
      "source": [
        "#reshaping\n",
        "X_train=X_train.reshape(2595,320*240)\n",
        "X_test=X_test.reshape(1730,320*240)\n",
        "\n"
      ],
      "execution_count": null,
      "outputs": []
    },
    {
      "cell_type": "code",
      "metadata": {
        "colab": {
          "base_uri": "https://localhost:8080/"
        },
        "id": "_QgNXLxOOL3L",
        "outputId": "75776c8e-809d-4692-9443-69d7dcb55269"
      },
      "source": [
        "#check value of train data\n",
        "X_train[0]"
      ],
      "execution_count": null,
      "outputs": [
        {
          "output_type": "execute_result",
          "data": {
            "text/plain": [
              "array([  2.,   2.,   2., ..., 144., 138., 136.], dtype=float32)"
            ]
          },
          "metadata": {
            "tags": []
          },
          "execution_count": 15
        }
      ]
    },
    {
      "cell_type": "code",
      "metadata": {
        "colab": {
          "base_uri": "https://localhost:8080/"
        },
        "id": "jo5n5Ih_O8tq",
        "outputId": "f1a908c7-50cf-4175-c1ba-d927fb510633"
      },
      "source": [
        "#check value of test data\n",
        "X_test[0]"
      ],
      "execution_count": null,
      "outputs": [
        {
          "output_type": "execute_result",
          "data": {
            "text/plain": [
              "array([114., 109., 112., ..., 153., 147., 138.], dtype=float32)"
            ]
          },
          "metadata": {
            "tags": []
          },
          "execution_count": 16
        }
      ]
    },
    {
      "cell_type": "code",
      "metadata": {
        "id": "DMHVsmI-yxxA"
      },
      "source": [
        "#normalize the data\n",
        "X_train=X_train/255.0\n",
        "X_test=X_test/255.0"
      ],
      "execution_count": null,
      "outputs": []
    },
    {
      "cell_type": "code",
      "metadata": {
        "id": "ZJo3XdvZy7lX"
      },
      "source": [
        " from keras.utils import to_categorical\n",
        " y_train=to_categorical(y_train)\n",
        " y_test=to_categorical(y_test)"
      ],
      "execution_count": null,
      "outputs": []
    },
    {
      "cell_type": "code",
      "metadata": {
        "id": "cLM9_nHbzGsB"
      },
      "source": [
        "# importing keras libararies\n",
        "from tensorflow.keras.models import Sequential\n",
        "from tensorflow.keras.layers import Dense, Dropout\n",
        "from keras.optimizers import Adam, RMSprop"
      ],
      "execution_count": null,
      "outputs": []
    },
    {
      "cell_type": "code",
      "metadata": {
        "id": "HtihsfANQZkq"
      },
      "source": [
        "#model building\n",
        "network=Sequential()\n",
        "network.add(Dense(256,activation=\"relu\",input_shape=(X_train.shape[1],)))\n",
        "network.add(Dropout(0.2))\n",
        "network.add(Dense(128,activation=\"relu\"))\n",
        "#network.add(Dropout(0.2))\n",
        "network.add(Dense(64,activation=\"relu\"))\n",
        "network.add(Dropout(0.2))\n",
        "network.add(Dense(5,activation=\"softmax\"))"
      ],
      "execution_count": null,
      "outputs": []
    },
    {
      "cell_type": "code",
      "metadata": {
        "colab": {
          "base_uri": "https://localhost:8080/"
        },
        "id": "haSeIl3ARoxH",
        "outputId": "9abe66ee-ebfc-433c-87e1-5bc9dba2420c"
      },
      "source": [
        "#model summary\n",
        "network.summary()"
      ],
      "execution_count": null,
      "outputs": [
        {
          "output_type": "stream",
          "text": [
            "Model: \"sequential\"\n",
            "_________________________________________________________________\n",
            "Layer (type)                 Output Shape              Param #   \n",
            "=================================================================\n",
            "dense (Dense)                (None, 256)               19661056  \n",
            "_________________________________________________________________\n",
            "dropout (Dropout)            (None, 256)               0         \n",
            "_________________________________________________________________\n",
            "dense_1 (Dense)              (None, 128)               32896     \n",
            "_________________________________________________________________\n",
            "dense_2 (Dense)              (None, 64)                8256      \n",
            "_________________________________________________________________\n",
            "dropout_1 (Dropout)          (None, 64)                0         \n",
            "_________________________________________________________________\n",
            "dense_3 (Dense)              (None, 5)                 325       \n",
            "=================================================================\n",
            "Total params: 19,702,533\n",
            "Trainable params: 19,702,533\n",
            "Non-trainable params: 0\n",
            "_________________________________________________________________\n"
          ],
          "name": "stdout"
        }
      ]
    },
    {
      "cell_type": "code",
      "metadata": {
        "id": "8OhgQuFyGcl4"
      },
      "source": [
        "# Compilation Step\n",
        "network.compile(optimizer=RMSprop(0.0001), loss = 'categorical_crossentropy', metrics = ['accuracy'])"
      ],
      "execution_count": null,
      "outputs": []
    },
    {
      "cell_type": "code",
      "metadata": {
        "colab": {
          "base_uri": "https://localhost:8080/"
        },
        "id": "Z6W7Sh-2SVbE",
        "outputId": "8b25ddfe-48b2-419f-b75f-5d9d06a9db62"
      },
      "source": [
        "\n",
        "history=network.fit(X_train, y_train,batch_size=20,epochs=100)"
      ],
      "execution_count": null,
      "outputs": [
        {
          "output_type": "stream",
          "text": [
            "Epoch 1/100\n",
            "130/130 [==============================] - 5s 13ms/step - loss: 2.9717 - accuracy: 0.2288\n",
            "Epoch 2/100\n",
            "130/130 [==============================] - 2s 13ms/step - loss: 1.6078 - accuracy: 0.2615\n",
            "Epoch 3/100\n",
            "130/130 [==============================] - 2s 13ms/step - loss: 1.5954 - accuracy: 0.2505\n",
            "Epoch 4/100\n",
            "130/130 [==============================] - 2s 13ms/step - loss: 1.5744 - accuracy: 0.2537\n",
            "Epoch 5/100\n",
            "130/130 [==============================] - 2s 13ms/step - loss: 1.5714 - accuracy: 0.2657\n",
            "Epoch 6/100\n",
            "130/130 [==============================] - 2s 12ms/step - loss: 1.5665 - accuracy: 0.2712\n",
            "Epoch 7/100\n",
            "130/130 [==============================] - 2s 12ms/step - loss: 1.5450 - accuracy: 0.2811\n",
            "Epoch 8/100\n",
            "130/130 [==============================] - 2s 13ms/step - loss: 1.5558 - accuracy: 0.2893\n",
            "Epoch 9/100\n",
            "130/130 [==============================] - 2s 13ms/step - loss: 1.5495 - accuracy: 0.3007\n",
            "Epoch 10/100\n",
            "130/130 [==============================] - 2s 13ms/step - loss: 1.5277 - accuracy: 0.3003\n",
            "Epoch 11/100\n",
            "130/130 [==============================] - 2s 13ms/step - loss: 1.5412 - accuracy: 0.2749\n",
            "Epoch 12/100\n",
            "130/130 [==============================] - 2s 13ms/step - loss: 1.5301 - accuracy: 0.2943\n",
            "Epoch 13/100\n",
            "130/130 [==============================] - 2s 13ms/step - loss: 1.5290 - accuracy: 0.2889\n",
            "Epoch 14/100\n",
            "130/130 [==============================] - 2s 13ms/step - loss: 1.5336 - accuracy: 0.2912\n",
            "Epoch 15/100\n",
            "130/130 [==============================] - 2s 13ms/step - loss: 1.5093 - accuracy: 0.3038\n",
            "Epoch 16/100\n",
            "130/130 [==============================] - 2s 13ms/step - loss: 1.5368 - accuracy: 0.2910\n",
            "Epoch 17/100\n",
            "130/130 [==============================] - 2s 12ms/step - loss: 1.5059 - accuracy: 0.3129\n",
            "Epoch 18/100\n",
            "130/130 [==============================] - 2s 12ms/step - loss: 1.5032 - accuracy: 0.3260\n",
            "Epoch 19/100\n",
            "130/130 [==============================] - 2s 13ms/step - loss: 1.4998 - accuracy: 0.3165\n",
            "Epoch 20/100\n",
            "130/130 [==============================] - 2s 13ms/step - loss: 1.5012 - accuracy: 0.3049\n",
            "Epoch 21/100\n",
            "130/130 [==============================] - 2s 13ms/step - loss: 1.4861 - accuracy: 0.3225\n",
            "Epoch 22/100\n",
            "130/130 [==============================] - 2s 13ms/step - loss: 1.4901 - accuracy: 0.3469\n",
            "Epoch 23/100\n",
            "130/130 [==============================] - 2s 13ms/step - loss: 1.4681 - accuracy: 0.3361\n",
            "Epoch 24/100\n",
            "130/130 [==============================] - 2s 13ms/step - loss: 1.4780 - accuracy: 0.3293\n",
            "Epoch 25/100\n",
            "130/130 [==============================] - 2s 13ms/step - loss: 1.4579 - accuracy: 0.3296\n",
            "Epoch 26/100\n",
            "130/130 [==============================] - 2s 13ms/step - loss: 1.4691 - accuracy: 0.3207\n",
            "Epoch 27/100\n",
            "130/130 [==============================] - 2s 13ms/step - loss: 1.4570 - accuracy: 0.3431\n",
            "Epoch 28/100\n",
            "130/130 [==============================] - 2s 13ms/step - loss: 1.4619 - accuracy: 0.3590\n",
            "Epoch 29/100\n",
            "130/130 [==============================] - 2s 13ms/step - loss: 1.4505 - accuracy: 0.3419\n",
            "Epoch 30/100\n",
            "130/130 [==============================] - 2s 13ms/step - loss: 1.4349 - accuracy: 0.3553\n",
            "Epoch 31/100\n",
            "130/130 [==============================] - 2s 13ms/step - loss: 1.4362 - accuracy: 0.3431\n",
            "Epoch 32/100\n",
            "130/130 [==============================] - 2s 13ms/step - loss: 1.4454 - accuracy: 0.3298\n",
            "Epoch 33/100\n",
            "130/130 [==============================] - 2s 13ms/step - loss: 1.4093 - accuracy: 0.3820\n",
            "Epoch 34/100\n",
            "130/130 [==============================] - 2s 13ms/step - loss: 1.4024 - accuracy: 0.3645\n",
            "Epoch 35/100\n",
            "130/130 [==============================] - 2s 13ms/step - loss: 1.4134 - accuracy: 0.3621\n",
            "Epoch 36/100\n",
            "130/130 [==============================] - 2s 13ms/step - loss: 1.4051 - accuracy: 0.3638\n",
            "Epoch 37/100\n",
            "130/130 [==============================] - 2s 13ms/step - loss: 1.3778 - accuracy: 0.3991\n",
            "Epoch 38/100\n",
            "130/130 [==============================] - 2s 13ms/step - loss: 1.4055 - accuracy: 0.3609\n",
            "Epoch 39/100\n",
            "130/130 [==============================] - 2s 13ms/step - loss: 1.3929 - accuracy: 0.3952\n",
            "Epoch 40/100\n",
            "130/130 [==============================] - 2s 13ms/step - loss: 1.3799 - accuracy: 0.3756\n",
            "Epoch 41/100\n",
            "130/130 [==============================] - 2s 13ms/step - loss: 1.3664 - accuracy: 0.3989\n",
            "Epoch 42/100\n",
            "130/130 [==============================] - 2s 13ms/step - loss: 1.3595 - accuracy: 0.3788\n",
            "Epoch 43/100\n",
            "130/130 [==============================] - 2s 13ms/step - loss: 1.3378 - accuracy: 0.3995\n",
            "Epoch 44/100\n",
            "130/130 [==============================] - 2s 13ms/step - loss: 1.3535 - accuracy: 0.3981\n",
            "Epoch 45/100\n",
            "130/130 [==============================] - 2s 13ms/step - loss: 1.3624 - accuracy: 0.4039\n",
            "Epoch 46/100\n",
            "130/130 [==============================] - 2s 13ms/step - loss: 1.3332 - accuracy: 0.4058\n",
            "Epoch 47/100\n",
            "130/130 [==============================] - 2s 13ms/step - loss: 1.3522 - accuracy: 0.3788\n",
            "Epoch 48/100\n",
            "130/130 [==============================] - 2s 13ms/step - loss: 1.3317 - accuracy: 0.4272\n",
            "Epoch 49/100\n",
            "130/130 [==============================] - 2s 13ms/step - loss: 1.2983 - accuracy: 0.4103\n",
            "Epoch 50/100\n",
            "130/130 [==============================] - 2s 13ms/step - loss: 1.3259 - accuracy: 0.4192\n",
            "Epoch 51/100\n",
            "130/130 [==============================] - 2s 13ms/step - loss: 1.3264 - accuracy: 0.4051\n",
            "Epoch 52/100\n",
            "130/130 [==============================] - 2s 13ms/step - loss: 1.3103 - accuracy: 0.4083\n",
            "Epoch 53/100\n",
            "130/130 [==============================] - 2s 13ms/step - loss: 1.2942 - accuracy: 0.4197\n",
            "Epoch 54/100\n",
            "130/130 [==============================] - 2s 13ms/step - loss: 1.2903 - accuracy: 0.4212\n",
            "Epoch 55/100\n",
            "130/130 [==============================] - 2s 13ms/step - loss: 1.3193 - accuracy: 0.4160\n",
            "Epoch 56/100\n",
            "130/130 [==============================] - 2s 13ms/step - loss: 1.2863 - accuracy: 0.4111\n",
            "Epoch 57/100\n",
            "130/130 [==============================] - 2s 13ms/step - loss: 1.3049 - accuracy: 0.4223\n",
            "Epoch 58/100\n",
            "130/130 [==============================] - 2s 13ms/step - loss: 1.3180 - accuracy: 0.4272\n",
            "Epoch 59/100\n",
            "130/130 [==============================] - 2s 13ms/step - loss: 1.2860 - accuracy: 0.4233\n",
            "Epoch 60/100\n",
            "130/130 [==============================] - 2s 13ms/step - loss: 1.2490 - accuracy: 0.4408\n",
            "Epoch 61/100\n",
            "130/130 [==============================] - 2s 13ms/step - loss: 1.2949 - accuracy: 0.4424\n",
            "Epoch 62/100\n",
            "130/130 [==============================] - 2s 13ms/step - loss: 1.2399 - accuracy: 0.4462\n",
            "Epoch 63/100\n",
            "130/130 [==============================] - 2s 13ms/step - loss: 1.2421 - accuracy: 0.4668\n",
            "Epoch 64/100\n",
            "130/130 [==============================] - 2s 13ms/step - loss: 1.2729 - accuracy: 0.4225\n",
            "Epoch 65/100\n",
            "130/130 [==============================] - 2s 13ms/step - loss: 1.2667 - accuracy: 0.4419\n",
            "Epoch 66/100\n",
            "130/130 [==============================] - 2s 13ms/step - loss: 1.2359 - accuracy: 0.4522\n",
            "Epoch 67/100\n",
            "130/130 [==============================] - 2s 13ms/step - loss: 1.2300 - accuracy: 0.4640\n",
            "Epoch 68/100\n",
            "130/130 [==============================] - 2s 13ms/step - loss: 1.2647 - accuracy: 0.4265\n",
            "Epoch 69/100\n",
            "130/130 [==============================] - 2s 13ms/step - loss: 1.1900 - accuracy: 0.4587\n",
            "Epoch 70/100\n",
            "130/130 [==============================] - 2s 13ms/step - loss: 1.2076 - accuracy: 0.4780\n",
            "Epoch 71/100\n",
            "130/130 [==============================] - 2s 13ms/step - loss: 1.2176 - accuracy: 0.4623\n",
            "Epoch 72/100\n",
            "130/130 [==============================] - 2s 13ms/step - loss: 1.2557 - accuracy: 0.4535\n",
            "Epoch 73/100\n",
            "130/130 [==============================] - 2s 13ms/step - loss: 1.2291 - accuracy: 0.4617\n",
            "Epoch 74/100\n",
            "130/130 [==============================] - 2s 13ms/step - loss: 1.2119 - accuracy: 0.4654\n",
            "Epoch 75/100\n",
            "130/130 [==============================] - 2s 13ms/step - loss: 1.2229 - accuracy: 0.4630\n",
            "Epoch 76/100\n",
            "130/130 [==============================] - 2s 13ms/step - loss: 1.1947 - accuracy: 0.4700\n",
            "Epoch 77/100\n",
            "130/130 [==============================] - 2s 13ms/step - loss: 1.2060 - accuracy: 0.4462\n",
            "Epoch 78/100\n",
            "130/130 [==============================] - 2s 13ms/step - loss: 1.1802 - accuracy: 0.4804\n",
            "Epoch 79/100\n",
            "130/130 [==============================] - 2s 13ms/step - loss: 1.1974 - accuracy: 0.4444\n",
            "Epoch 80/100\n",
            "130/130 [==============================] - 2s 13ms/step - loss: 1.2001 - accuracy: 0.4688\n",
            "Epoch 81/100\n",
            "130/130 [==============================] - 2s 13ms/step - loss: 1.1668 - accuracy: 0.4883\n",
            "Epoch 82/100\n",
            "130/130 [==============================] - 2s 13ms/step - loss: 1.1707 - accuracy: 0.4685\n",
            "Epoch 83/100\n",
            "130/130 [==============================] - 2s 13ms/step - loss: 1.1706 - accuracy: 0.4681\n",
            "Epoch 84/100\n",
            "130/130 [==============================] - 2s 13ms/step - loss: 1.1734 - accuracy: 0.4770\n",
            "Epoch 85/100\n",
            "130/130 [==============================] - 2s 13ms/step - loss: 1.1711 - accuracy: 0.4787\n",
            "Epoch 86/100\n",
            "130/130 [==============================] - 2s 13ms/step - loss: 1.1773 - accuracy: 0.4692\n",
            "Epoch 87/100\n",
            "130/130 [==============================] - 2s 13ms/step - loss: 1.1696 - accuracy: 0.4936\n",
            "Epoch 88/100\n",
            "130/130 [==============================] - 2s 13ms/step - loss: 1.1500 - accuracy: 0.4801\n",
            "Epoch 89/100\n",
            "130/130 [==============================] - 2s 13ms/step - loss: 1.1979 - accuracy: 0.4858\n",
            "Epoch 90/100\n",
            "130/130 [==============================] - 2s 13ms/step - loss: 1.1542 - accuracy: 0.4986\n",
            "Epoch 91/100\n",
            "130/130 [==============================] - 2s 13ms/step - loss: 1.1819 - accuracy: 0.5001\n",
            "Epoch 92/100\n",
            "130/130 [==============================] - 2s 13ms/step - loss: 1.1366 - accuracy: 0.5227\n",
            "Epoch 93/100\n",
            "130/130 [==============================] - 2s 13ms/step - loss: 1.1211 - accuracy: 0.4986\n",
            "Epoch 94/100\n",
            "130/130 [==============================] - 2s 13ms/step - loss: 1.1356 - accuracy: 0.4805\n",
            "Epoch 95/100\n",
            "130/130 [==============================] - 2s 13ms/step - loss: 1.1026 - accuracy: 0.5103\n",
            "Epoch 96/100\n",
            "130/130 [==============================] - 2s 13ms/step - loss: 1.0900 - accuracy: 0.5176\n",
            "Epoch 97/100\n",
            "130/130 [==============================] - 2s 13ms/step - loss: 1.1191 - accuracy: 0.5136\n",
            "Epoch 98/100\n",
            "130/130 [==============================] - 2s 13ms/step - loss: 1.1200 - accuracy: 0.5170\n",
            "Epoch 99/100\n",
            "130/130 [==============================] - 2s 13ms/step - loss: 1.1119 - accuracy: 0.5240\n",
            "Epoch 100/100\n",
            "130/130 [==============================] - 2s 13ms/step - loss: 1.0829 - accuracy: 0.5470\n"
          ],
          "name": "stdout"
        }
      ]
    },
    {
      "cell_type": "code",
      "metadata": {
        "colab": {
          "base_uri": "https://localhost:8080/"
        },
        "id": "IB12EblmSVvQ",
        "outputId": "e7959466-d88b-45d3-f9bc-ef60603c4d90"
      },
      "source": [
        "history_dict = history.history\n",
        "history_dict.keys()\n",
        "[u'accuracy', u'loss']"
      ],
      "execution_count": null,
      "outputs": [
        {
          "output_type": "execute_result",
          "data": {
            "text/plain": [
              "['accuracy', 'loss']"
            ]
          },
          "metadata": {
            "tags": []
          },
          "execution_count": 24
        }
      ]
    },
    {
      "cell_type": "code",
      "metadata": {
        "colab": {
          "base_uri": "https://localhost:8080/",
          "height": 295
        },
        "id": "OI-pV845zMyp",
        "outputId": "bfdd3b6b-66f1-4ad4-ed44-b10a41582d48"
      },
      "source": [
        "import matplotlib.pyplot as plt\n",
        "history_dict = history.history\n",
        "loss_values = history_dict['loss']\n",
        "val_accuracy = history_dict['accuracy']\n",
        "epochs = range(1, len(history_dict['accuracy']) + 1)\n",
        "plt.plot(epochs, loss_values, 'r', label='loss')\n",
        "plt.plot(epochs, val_accuracy, 'b', label='accuracy')\n",
        "plt.title('loss and accuracy')\n",
        "plt.xlabel('Epochs')\n",
        "plt.ylabel('Loss')\n",
        "plt.legend()\n",
        "plt.grid()\n",
        "plt.show()"
      ],
      "execution_count": null,
      "outputs": [
        {
          "output_type": "display_data",
          "data": {
            "image/png": "[encoded data removed]",
            "text/plain": [
              "<Figure size 432x288 with 1 Axes>"
            ]
          },
          "metadata": {
            "tags": [],
            "needs_background": "light"
          }
        }
      ]
    },
    {
      "cell_type": "code",
      "metadata": {
        "colab": {
          "base_uri": "https://localhost:8080/"
        },
        "id": "8tdmwvlezbLI",
        "outputId": "6debb88d-2096-48d4-fe6b-3ab04f0b3839"
      },
      "source": [
        "network.evaluate(X_test,y_test)"
      ],
      "execution_count": null,
      "outputs": [
        {
          "output_type": "stream",
          "text": [
            "55/55 [==============================] - 0s 6ms/step - loss: 1.7488 - accuracy: 0.2873\n"
          ],
          "name": "stdout"
        },
        {
          "output_type": "execute_result",
          "data": {
            "text/plain": [
              "[1.7487878799438477, 0.2872832417488098]"
            ]
          },
          "metadata": {
            "tags": []
          },
          "execution_count": 26
        }
      ]
    },
    {
      "cell_type": "code",
      "metadata": {
        "colab": {
          "base_uri": "https://localhost:8080/"
        },
        "id": "VdOw1dZRSF2H",
        "outputId": "2cd47406-0164-4cdd-e531-1808799f4f62"
      },
      "source": [
        "pred = network.predict_classes(X_test[:10])\n",
        "for i in range(len(pred)):\n",
        "    print(pred[i],'==>',y_test[i])"
      ],
      "execution_count": null,
      "outputs": [
        {
          "output_type": "stream",
          "text": [
            "2 ==> [0. 1. 0. 0. 0.]\n",
            "4 ==> [0. 0. 0. 1. 0.]\n",
            "4 ==> [0. 0. 0. 1. 0.]\n",
            "0 ==> [0. 0. 1. 0. 0.]\n",
            "2 ==> [0. 0. 0. 1. 0.]\n",
            "3 ==> [1. 0. 0. 0. 0.]\n",
            "4 ==> [0. 0. 0. 0. 1.]\n",
            "4 ==> [0. 0. 1. 0. 0.]\n",
            "0 ==> [0. 0. 1. 0. 0.]\n",
            "0 ==> [0. 0. 1. 0. 0.]\n"
          ],
          "name": "stdout"
        },
        {
          "output_type": "stream",
          "text": [
            "/usr/local/lib/python3.7/dist-packages/tensorflow/python/keras/engine/sequential.py:450: UserWarning: `model.predict_classes()` is deprecated and will be removed after 2021-01-01. Please use instead:* `np.argmax(model.predict(x), axis=-1)`,   if your model does multi-class classification   (e.g. if it uses a `softmax` last-layer activation).* `(model.predict(x) > 0.5).astype(\"int32\")`,   if your model does binary classification   (e.g. if it uses a `sigmoid` last-layer activation).\n",
            "  warnings.warn('`model.predict_classes()` is deprecated and '\n"
          ],
          "name": "stderr"
        }
      ]
    }
  ]
}